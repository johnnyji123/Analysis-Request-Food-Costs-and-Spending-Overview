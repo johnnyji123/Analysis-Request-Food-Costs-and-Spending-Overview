{
 "cells": [
  {
   "cell_type": "code",
   "execution_count": 19,
   "id": "56458567-13bb-45bc-85ea-95f3ef0c386e",
   "metadata": {},
   "outputs": [
    {
     "name": "stdout",
     "output_type": "stream",
     "text": [
      "Requirement already satisfied: polars in c:\\users\\asus\\anaconda3\\lib\\site-packages (1.10.0)\n"
     ]
    }
   ],
   "source": [
    "import pandas as pd\n",
    "!pip install polars\n",
    "import polars as pl\n",
    "import matplotlib.pyplot as plt\n",
    "df = pd.read_excel(r\"C:\\Users\\asus\\Documents\\Candidate_sample- IT analyst -v2.xlsx\")\n",
    "\n",
    "# Converting excel file into a pandas dataframe"
   ]
  },
  {
   "cell_type": "code",
   "execution_count": 20,
   "id": "6c65c37d-1683-4b2a-a2f4-95d97450ed54",
   "metadata": {},
   "outputs": [
    {
     "data": {
      "text/html": [
       "<div><style>\n",
       ".dataframe > thead > tr,\n",
       ".dataframe > tbody > tr {\n",
       "  text-align: right;\n",
       "  white-space: pre-wrap;\n",
       "}\n",
       "</style>\n",
       "<small>shape: (4, 17)</small><table border=\"1\" class=\"dataframe\"><thead><tr><th>Group</th><th>Site</th><th>Category</th><th>Supplier </th><th>Sum of Jan-24</th><th>Sum of Feb-24</th><th>Sum of Mar-24</th><th>Sum of Apr-24</th><th>Sum of May-24</th><th>Sum of Jun-24</th><th>Total 6 months</th><th>AVG per month</th><th>average occupancy/ residents</th><th>Budgeted spend (£/resident/day)</th><th>Actual spend</th><th>variance £</th><th>variance %</th></tr><tr><td>str</td><td>str</td><td>str</td><td>str</td><td>f64</td><td>f64</td><td>f64</td><td>f64</td><td>f64</td><td>f64</td><td>f64</td><td>f64</td><td>f64</td><td>f64</td><td>f64</td><td>f64</td><td>f64</td></tr></thead><tbody><tr><td>&quot;Cr&quot;</td><td>&quot;1-Anc&quot;</td><td>&quot;Dairy&quot;</td><td>&quot;Freshways&quot;</td><td>656.2</td><td>687.2</td><td>851.0</td><td>687.96</td><td>687.57</td><td>835.76</td><td>4405.69</td><td>734.281667</td><td>null</td><td>null</td><td>null</td><td>null</td><td>null</td></tr><tr><td>&quot;Cr&quot;</td><td>&quot;1-Anc&quot;</td><td>&quot;Grocery&quot;</td><td>&quot;Bidfood&quot;</td><td>3646.57</td><td>3158.4</td><td>3280.34</td><td>4073.71</td><td>3006.42</td><td>3212.38</td><td>20377.82</td><td>3396.303333</td><td>null</td><td>null</td><td>null</td><td>null</td><td>null</td></tr><tr><td>&quot;Cr&quot;</td><td>&quot;1-Anc&quot;</td><td>&quot;Meat&quot;</td><td>&quot;Campbells Brothers-New&quot;</td><td>896.82</td><td>691.69</td><td>750.66</td><td>920.85</td><td>723.01</td><td>809.09</td><td>4792.12</td><td>798.686667</td><td>null</td><td>null</td><td>null</td><td>null</td><td>null</td></tr><tr><td>&quot;Cr&quot;</td><td>&quot;1-Anc Total&quot;</td><td>null</td><td>null</td><td>5199.59</td><td>4537.29</td><td>4882.0</td><td>5682.52</td><td>4417.0</td><td>4857.23</td><td>29575.63</td><td>4929.271667</td><td>39.0</td><td>3.85</td><td>null</td><td>null</td><td>null</td></tr></tbody></table></div>"
      ],
      "text/plain": [
       "shape: (4, 17)\n",
       "┌───────┬─────────────┬──────────┬──────────────┬───┬──────────────────┬──────────────┬────────────┬────────────┐\n",
       "│ Group ┆ Site        ┆ Category ┆ Supplier     ┆ … ┆ Budgeted spend   ┆ Actual spend ┆ variance £ ┆ variance % │\n",
       "│ ---   ┆ ---         ┆ ---      ┆ ---          ┆   ┆ (£/resident/day… ┆ ---          ┆ ---        ┆ ---        │\n",
       "│ str   ┆ str         ┆ str      ┆ str          ┆   ┆ ---              ┆ f64          ┆ f64        ┆ f64        │\n",
       "│       ┆             ┆          ┆              ┆   ┆ f64              ┆              ┆            ┆            │\n",
       "╞═══════╪═════════════╪══════════╪══════════════╪═══╪══════════════════╪══════════════╪════════════╪════════════╡\n",
       "│ Cr    ┆ 1-Anc       ┆ Dairy    ┆ Freshways    ┆ … ┆ null             ┆ null         ┆ null       ┆ null       │\n",
       "│ Cr    ┆ 1-Anc       ┆ Grocery  ┆ Bidfood      ┆ … ┆ null             ┆ null         ┆ null       ┆ null       │\n",
       "│ Cr    ┆ 1-Anc       ┆ Meat     ┆ Campbells    ┆ … ┆ null             ┆ null         ┆ null       ┆ null       │\n",
       "│       ┆             ┆          ┆ Brothers-New ┆   ┆                  ┆              ┆            ┆            │\n",
       "│ Cr    ┆ 1-Anc Total ┆ null     ┆ null         ┆ … ┆ 3.85             ┆ null         ┆ null       ┆ null       │\n",
       "└───────┴─────────────┴──────────┴──────────────┴───┴──────────────────┴──────────────┴────────────┴────────────┘"
      ]
     },
     "execution_count": 20,
     "metadata": {},
     "output_type": "execute_result"
    }
   ],
   "source": [
    "df = pl.from_pandas(df)\n",
    "df\n",
    "\n",
    "# Creating a dataframe - the table below"
   ]
  },
  {
   "cell_type": "code",
   "execution_count": 23,
   "id": "83aed542-727f-442f-a4c9-83ef26450b10",
   "metadata": {},
   "outputs": [
    {
     "data": {
      "text/html": [
       "<div><style>\n",
       ".dataframe > thead > tr,\n",
       ".dataframe > tbody > tr {\n",
       "  text-align: right;\n",
       "  white-space: pre-wrap;\n",
       "}\n",
       "</style>\n",
       "<small>shape: (4, 8)</small><table border=\"1\" class=\"dataframe\"><thead><tr><th>Category</th><th>Supplier</th><th>Sum of Jun-24</th><th>Total 6 months</th><th>AVG per month</th><th>Budgeted spend per day £</th><th>Actual spend</th><th>num of residents</th></tr><tr><td>str</td><td>str</td><td>f64</td><td>f64</td><td>f64</td><td>f64</td><td>f64</td><td>f64</td></tr></thead><tbody><tr><td>&quot;Dairy&quot;</td><td>&quot;Freshways&quot;</td><td>835.76</td><td>4405.69</td><td>734.281667</td><td>null</td><td>null</td><td>null</td></tr><tr><td>&quot;Grocery&quot;</td><td>&quot;Bidfood&quot;</td><td>3212.38</td><td>20377.82</td><td>3396.303333</td><td>null</td><td>null</td><td>null</td></tr><tr><td>&quot;Meat&quot;</td><td>&quot;Campbells Brothers-New&quot;</td><td>809.09</td><td>4792.12</td><td>798.686667</td><td>null</td><td>null</td><td>null</td></tr><tr><td>null</td><td>null</td><td>4857.23</td><td>29575.63</td><td>4929.271667</td><td>3.85</td><td>null</td><td>39.0</td></tr></tbody></table></div>"
      ],
      "text/plain": [
       "shape: (4, 8)\n",
       "┌──────────┬──────────────┬─────────┬──────────┬───────────────┬────────────────────────────┬──────────────┬───────────┐\n",
       "│ Category ┆ Supplier     ┆ Sum of  ┆ Total 6  ┆ AVG per month ┆ Budgeted spend per day £   ┆ Actual spend ┆ num of    │\n",
       "│ ---      ┆ ---          ┆ Jun-24  ┆ months   ┆ ---           ┆ ---                        ┆ ---          ┆ residents │\n",
       "│ str      ┆ str          ┆ ---     ┆ ---      ┆ f64           ┆ f64                        ┆ f64          ┆ ---       │\n",
       "│          ┆              ┆ f64     ┆ f64      ┆               ┆                            ┆              ┆ f64       │\n",
       "╞══════════╪══════════════╪═════════╪══════════╪═══════════════╪════════════════════════════╪══════════════╪═══════════╡\n",
       "│ Dairy    ┆ Freshways    ┆ 835.76  ┆ 4405.69  ┆ 734.281667    ┆ null                       ┆ null         ┆ null      │\n",
       "│ Grocery  ┆ Bidfood      ┆ 3212.38 ┆ 20377.82 ┆ 3396.303333   ┆ null                       ┆ null         ┆ null      │\n",
       "│ Meat     ┆ Campbells    ┆ 809.09  ┆ 4792.12  ┆ 798.686667    ┆ null                       ┆ null         ┆ null      │\n",
       "│          ┆ Brothers-New ┆         ┆          ┆               ┆                            ┆              ┆           │\n",
       "│ null     ┆ null         ┆ 4857.23 ┆ 29575.63 ┆ 4929.271667   ┆ 3.85                       ┆ null         ┆ 39.0      │\n",
       "└──────────┴──────────────┴─────────┴──────────┴───────────────┴────────────────────────────┴──────────────┴───────────┘"
      ]
     },
     "execution_count": 23,
     "metadata": {},
     "output_type": "execute_result"
    }
   ],
   "source": [
    "df.columns = [col.rstrip() for col in df.columns]\n",
    "df_june = df.select(pl.col(\"Category\",\"Supplier\", \"Sum of Jun-24\", \"Total 6 months\", \"AVG per month\", \"Budgeted spend (£/resident/day)\", \"Actual spend\", \"average occupancy/ residents\"))\n",
    "df_june = df_june.rename({ \"Budgeted spend (£/resident/day)\": \"Budgeted spend per day £\", \"average occupancy/ residents\" : \"num of residents\"})\n",
    "df_june\n",
    "\n",
    "# I updated the column names in the DataFrame to remove any trailing spaces. \n",
    "# This ensures that there are no extra spaces in the column names, which could cause issues when referencing them later.\n",
    "# I selected the columns that I thought were relevant to compute analysis on."
   ]
  },
  {
   "cell_type": "code",
   "execution_count": 25,
   "id": "894c8b1b-c96f-4a37-bd52-a960ab9645d4",
   "metadata": {},
   "outputs": [
    {
     "data": {
      "text/html": [
       "<div><style>\n",
       ".dataframe > thead > tr,\n",
       ".dataframe > tbody > tr {\n",
       "  text-align: right;\n",
       "  white-space: pre-wrap;\n",
       "}\n",
       "</style>\n",
       "<small>shape: (4, 3)</small><table border=\"1\" class=\"dataframe\"><thead><tr><th>Category</th><th>Supplier</th><th>Sum of Jun-24</th></tr><tr><td>str</td><td>str</td><td>f64</td></tr></thead><tbody><tr><td>null</td><td>null</td><td>4857.23</td></tr><tr><td>&quot;Grocery&quot;</td><td>&quot;Bidfood&quot;</td><td>3212.38</td></tr><tr><td>&quot;Dairy&quot;</td><td>&quot;Freshways&quot;</td><td>835.76</td></tr><tr><td>&quot;Meat&quot;</td><td>&quot;Campbells Brothers-New&quot;</td><td>809.09</td></tr></tbody></table></div>"
      ],
      "text/plain": [
       "shape: (4, 3)\n",
       "┌──────────┬────────────────────────┬───────────────┐\n",
       "│ Category ┆ Supplier               ┆ Sum of Jun-24 │\n",
       "│ ---      ┆ ---                    ┆ ---           │\n",
       "│ str      ┆ str                    ┆ f64           │\n",
       "╞══════════╪════════════════════════╪═══════════════╡\n",
       "│ null     ┆ null                   ┆ 4857.23       │\n",
       "│ Grocery  ┆ Bidfood                ┆ 3212.38       │\n",
       "│ Dairy    ┆ Freshways              ┆ 835.76        │\n",
       "│ Meat     ┆ Campbells Brothers-New ┆ 809.09        │\n",
       "└──────────┴────────────────────────┴───────────────┘"
      ]
     },
     "execution_count": 25,
     "metadata": {},
     "output_type": "execute_result"
    }
   ],
   "source": [
    "df_largest_food_cost = df_june.sort(\"Sum of Jun-24\", descending = True)\n",
    "df_largest_food_cost_june = df_largest_food_cost.select(pl.col(\"Category\", \"Supplier\", \"Sum of Jun-24\"))\n",
    "df_largest_food_cost_june\n",
    "# The lowest food cost in june was £809.09 in the Meat category with supplier Campbells Brotheres-New\n",
    "# To negoatiate for low prices - Campbells Browthers-New may be the best option\n",
    "\n",
    "                                          "
   ]
  },
  {
   "cell_type": "code",
   "execution_count": 27,
   "id": "3c614b1b-ec82-42b7-9a1c-76b2d690aa71",
   "metadata": {},
   "outputs": [
    {
     "data": {
      "text/plain": [
       "-3.19110749497459"
      ]
     },
     "execution_count": 27,
     "metadata": {},
     "output_type": "execute_result"
    }
   ],
   "source": [
    "meat_price = df_largest_food_cost_june.filter(\n",
    "                        pl.col(\"Category\") == \"Meat\"\n",
    "                        \n",
    ")[\"Sum of Jun-24\"].item()\n",
    "\n",
    "dairy_price = df_largest_food_cost_june.filter(\n",
    "                        pl.col(\"Category\") == \"Dairy\"\n",
    "                        \n",
    ")[\"Sum of Jun-24\"].item()\n",
    "\n",
    "\n",
    "meat_dairy_pct_change = ((meat_price - dairy_price) /dairy_price) * 100\n",
    "meat_dairy_pct_change\n",
    "\n",
    "# I created a variable, meat_price, which extracts the total expenditure for the \"Meat\" category.\n",
    "# Similarly, I created a variable, dairy_price, which extracts the total expenditure for the \"Dairy\" category.\n",
    "# You calculated the percentage change between the meat and dairy prices using the formula:\n",
    "# Percentage Change =(Meat Price−Dairy Price / Dairy Price) × 100\n",
    "# This calculation determines how much more (or less) expensive meat is compared to dairy as a percentage of the dairy price.\n",
    "# dairy is 3% more expensive than meat"
   ]
  },
  {
   "cell_type": "code",
   "execution_count": 29,
   "id": "6885221c-4c62-454e-9efb-1abd67a26b76",
   "metadata": {},
   "outputs": [
    {
     "data": {
      "text/plain": [
       "-74.8133782429227"
      ]
     },
     "execution_count": 29,
     "metadata": {},
     "output_type": "execute_result"
    }
   ],
   "source": [
    "grocery_price = df_largest_food_cost_june.filter(\n",
    "                    pl.col(\"Category\") == \"Grocery\" \n",
    ")[\"Sum of Jun-24\"].item()\n",
    "\n",
    "meat_grocery_pct_change = ((meat_price - grocery_price) / grocery_price) * 100\n",
    "meat_grocery_pct_change\n",
    "# I created a variable, dairy_price, which extracts the total expenditure for the \"Dairy\" category.\n",
    "# I calculated the percentage change between the meat and dairy prices using the formula:\n",
    "# Percentage Change =(Meat Price−Grocery Price / Grocery Price) × 100\n",
    "# This calculation determines how much more (or less) expensive meat is compared to Grocery as a percentage of the Grocery price.\n",
    "# grocery is 74% more expxensive than meat\n"
   ]
  },
  {
   "cell_type": "code",
   "execution_count": null,
   "id": "07c7b951-9d85-40fc-9a5a-d735570177f8",
   "metadata": {},
   "outputs": [],
   "source": []
  },
  {
   "cell_type": "code",
   "execution_count": null,
   "id": "34721100-21c3-4d6a-b87f-c9a34e544242",
   "metadata": {},
   "outputs": [],
   "source": []
  },
  {
   "cell_type": "code",
   "execution_count": 60,
   "id": "837dfc84-906f-4946-9038-81759f1aae2e",
   "metadata": {},
   "outputs": [
    {
     "data": {
      "text/html": [
       "<div><style>\n",
       ".dataframe > thead > tr,\n",
       ".dataframe > tbody > tr {\n",
       "  text-align: right;\n",
       "  white-space: pre-wrap;\n",
       "}\n",
       "</style>\n",
       "<small>shape: (4, 9)</small><table border=\"1\" class=\"dataframe\"><thead><tr><th>Category</th><th>Supplier</th><th>Sum of Jun-24</th><th>Total 6 months</th><th>AVG per month</th><th>Budgeted spend per day £</th><th>Actual spend</th><th>num of residents</th><th>cost per day</th></tr><tr><td>str</td><td>str</td><td>f64</td><td>f64</td><td>f64</td><td>f64</td><td>f64</td><td>f64</td><td>f64</td></tr></thead><tbody><tr><td>null</td><td>null</td><td>4857.23</td><td>29575.63</td><td>4929.271667</td><td>3.85</td><td>null</td><td>39.0</td><td>161.91</td></tr><tr><td>&quot;Grocery&quot;</td><td>&quot;Bidfood&quot;</td><td>3212.38</td><td>20377.82</td><td>3396.303333</td><td>null</td><td>null</td><td>null</td><td>107.08</td></tr><tr><td>&quot;Dairy&quot;</td><td>&quot;Freshways&quot;</td><td>835.76</td><td>4405.69</td><td>734.281667</td><td>null</td><td>null</td><td>null</td><td>27.86</td></tr><tr><td>&quot;Meat&quot;</td><td>&quot;Campbells Brothers-New&quot;</td><td>809.09</td><td>4792.12</td><td>798.686667</td><td>null</td><td>null</td><td>null</td><td>26.97</td></tr></tbody></table></div>"
      ],
      "text/plain": [
       "shape: (4, 9)\n",
       "┌──────────┬─────────────────┬─────────┬──────────┬───┬─────────────────┬─────────────────┬───────────┬────────────────┐\n",
       "│ Category ┆ Supplier        ┆ Sum of  ┆ Total 6  ┆ … ┆ Budgeted spend  ┆ Actual spend    ┆ num of    ┆ cost per day   │\n",
       "│ ---      ┆ ---             ┆ Jun-24  ┆ months   ┆   ┆ per day £       ┆ ---             ┆ residents ┆ ---            │\n",
       "│ str      ┆ str             ┆ ---     ┆ ---      ┆   ┆ ---             ┆ f64             ┆ ---       ┆ f64            │\n",
       "│          ┆                 ┆ f64     ┆ f64      ┆   ┆ f64             ┆                 ┆ f64       ┆                │\n",
       "╞══════════╪═════════════════╪═════════╪══════════╪═══╪═════════════════╪═════════════════╪═══════════╪════════════════╡\n",
       "│ null     ┆ null            ┆ 4857.23 ┆ 29575.63 ┆ … ┆ 3.85            ┆ null            ┆ 39.0      ┆ 161.91         │\n",
       "│ Grocery  ┆ Bidfood         ┆ 3212.38 ┆ 20377.82 ┆ … ┆ null            ┆ null            ┆ null      ┆ 107.08         │\n",
       "│ Dairy    ┆ Freshways       ┆ 835.76  ┆ 4405.69  ┆ … ┆ null            ┆ null            ┆ null      ┆ 27.86          │\n",
       "│ Meat     ┆ Campbells       ┆ 809.09  ┆ 4792.12  ┆ … ┆ null            ┆ null            ┆ null      ┆ 26.97          │\n",
       "│          ┆ Brothers-New    ┆         ┆          ┆   ┆                 ┆                 ┆           ┆                │\n",
       "└──────────┴─────────────────┴─────────┴──────────┴───┴─────────────────┴─────────────────┴───────────┴────────────────┘"
      ]
     },
     "execution_count": 60,
     "metadata": {},
     "output_type": "execute_result"
    }
   ],
   "source": [
    "# find cost per day\n",
    "# sum of june / 30 = cost per day\n",
    "df_largest_food_cost = df_largest_food_cost.with_columns(\n",
    "                (pl.col(\"Sum of Jun-24\")/ 30).round(2).alias(\"cost per day\")\n",
    "        \n",
    ")\n",
    "df_largest_food_cost\n",
    "\n",
    "# I created a new column called \"cost per day\" in the df_largest_food_cost DataFrame. This column is calculated by taking the \"Sum of Jun-24\" column and dividing it by 30, which represents the number of days in June.\n",
    "# Grocery has largest cost per day at 107.08\n",
    "# Meat has lower cost per day at 26.97"
   ]
  },
  {
   "cell_type": "code",
   "execution_count": 96,
   "id": "157f5774-c9c9-4c6c-bf91-146ca88ffe47",
   "metadata": {},
   "outputs": [
    {
     "data": {
      "text/html": [
       "<div><style>\n",
       ".dataframe > thead > tr,\n",
       ".dataframe > tbody > tr {\n",
       "  text-align: right;\n",
       "  white-space: pre-wrap;\n",
       "}\n",
       "</style>\n",
       "<small>shape: (4, 10)</small><table border=\"1\" class=\"dataframe\"><thead><tr><th>Category</th><th>Supplier</th><th>Sum of Jun-24</th><th>Total 6 months</th><th>AVG per month</th><th>Budgeted spend per day £</th><th>Actual spend</th><th>num of residents</th><th>cost per day</th><th>cost per resident per day</th></tr><tr><td>str</td><td>str</td><td>f64</td><td>f64</td><td>f64</td><td>f64</td><td>f64</td><td>f64</td><td>f64</td><td>f64</td></tr></thead><tbody><tr><td>null</td><td>null</td><td>4857.23</td><td>29575.63</td><td>4929.271667</td><td>3.85</td><td>null</td><td>39.0</td><td>161.91</td><td>4.15</td></tr><tr><td>&quot;Grocery&quot;</td><td>&quot;Bidfood&quot;</td><td>3212.38</td><td>20377.82</td><td>3396.303333</td><td>null</td><td>null</td><td>null</td><td>107.08</td><td>2.75</td></tr><tr><td>&quot;Dairy&quot;</td><td>&quot;Freshways&quot;</td><td>835.76</td><td>4405.69</td><td>734.281667</td><td>null</td><td>null</td><td>null</td><td>27.86</td><td>0.71</td></tr><tr><td>&quot;Meat&quot;</td><td>&quot;Campbells Brothers-New&quot;</td><td>809.09</td><td>4792.12</td><td>798.686667</td><td>null</td><td>null</td><td>null</td><td>26.97</td><td>0.69</td></tr></tbody></table></div>"
      ],
      "text/plain": [
       "shape: (4, 10)\n",
       "┌──────────┬─────────────────┬─────────┬──────────┬───┬─────────────────┬───────────┬─────────────────┬────────────────┐\n",
       "│ Category ┆ Supplier        ┆ Sum of  ┆ Total 6  ┆ … ┆ Actual spend    ┆ num of    ┆ cost per day    ┆ cost per       │\n",
       "│ ---      ┆ ---             ┆ Jun-24  ┆ months   ┆   ┆ ---             ┆ residents ┆ ---             ┆ resident per   │\n",
       "│ str      ┆ str             ┆ ---     ┆ ---      ┆   ┆ f64             ┆ ---       ┆ f64             ┆ day            │\n",
       "│          ┆                 ┆ f64     ┆ f64      ┆   ┆                 ┆ f64       ┆                 ┆ ---            │\n",
       "│          ┆                 ┆         ┆          ┆   ┆                 ┆           ┆                 ┆ f64            │\n",
       "╞══════════╪═════════════════╪═════════╪══════════╪═══╪═════════════════╪═══════════╪═════════════════╪════════════════╡\n",
       "│ null     ┆ null            ┆ 4857.23 ┆ 29575.63 ┆ … ┆ null            ┆ 39.0      ┆ 161.91          ┆ 4.15           │\n",
       "│ Grocery  ┆ Bidfood         ┆ 3212.38 ┆ 20377.82 ┆ … ┆ null            ┆ null      ┆ 107.08          ┆ 2.75           │\n",
       "│ Dairy    ┆ Freshways       ┆ 835.76  ┆ 4405.69  ┆ … ┆ null            ┆ null      ┆ 27.86           ┆ 0.71           │\n",
       "│ Meat     ┆ Campbells       ┆ 809.09  ┆ 4792.12  ┆ … ┆ null            ┆ null      ┆ 26.97           ┆ 0.69           │\n",
       "│          ┆ Brothers-New    ┆         ┆          ┆   ┆                 ┆           ┆                 ┆                │\n",
       "└──────────┴─────────────────┴─────────┴──────────┴───┴─────────────────┴───────────┴─────────────────┴────────────────┘"
      ]
     },
     "execution_count": 96,
     "metadata": {},
     "output_type": "execute_result"
    }
   ],
   "source": [
    "# find cost per resident = 39\n",
    "df_cost_per_resident = df_largest_food_cost.with_columns(\n",
    "                            (pl.col(\"cost per day\") / 39).round(2).alias(\"cost per resident per day\")\n",
    ")\n",
    "df_cost_per_resident\n",
    "\n",
    "# I created a new DataFrame called df_cost_per_resident, where I added a new column named \"cost per resident per day.\" This column is calculated by taking the \"cost per day\" and dividing it by the total number of residents, which is 39.\n",
    "# total cost is £4.15\n",
    "# Grocery is the largest cost per day at 2.75\n",
    "# Meat the lowest cost per day at 0.69"
   ]
  },
  {
   "cell_type": "code",
   "execution_count": 90,
   "id": "ad775004-6599-47d0-937c-7f58809dc1cb",
   "metadata": {},
   "outputs": [
    {
     "data": {
      "text/plain": [
       "284.3503230437904"
      ]
     },
     "execution_count": 90,
     "metadata": {},
     "output_type": "execute_result"
    }
   ],
   "source": [
    "\n",
    "df_largest_food_cost\n",
    "grocery_cost_per_day = df_largest_food_cost.filter(\n",
    "                    pl.col(\"Category\") == \"Grocery\"\n",
    "            \n",
    ")[\"cost per day\"].item()\n",
    "\n",
    "dairy_cost_per_day = df_largest_food_cost.filter(\n",
    "                    pl.col(\"Category\") == \"Dairy\"\n",
    "    \n",
    ")[\"cost per day\"].item()\n",
    "\n",
    "grocery_dairy_pct_change_cost = ((grocery_cost_per_day -  dairy_cost_per_day) / dairy_cost_per_day) * 100\n",
    "grocery_dairy_pct_change_cost\n",
    "\n",
    "# I filtered the df_largest_food_cost DataFrame to extract the daily cost associated with the \"Grocery\" category. This value is stored in the variable grocery_cost_per_day.\n",
    "# I calculated the percentage change in cost between \"Grocery\" and \"Dairy.\" \n",
    "# The formula used was Grocery Cost per Day − Dairy Cost per Day × 100\n",
    "\n",
    "# shows cost of Grocery per day is 284% more expensive than Dairy"
   ]
  },
  {
   "cell_type": "code",
   "execution_count": 92,
   "id": "84357cdb-455f-4692-93d3-9b786491dfed",
   "metadata": {},
   "outputs": [
    {
     "data": {
      "text/plain": [
       "297.0337411939192"
      ]
     },
     "execution_count": 92,
     "metadata": {},
     "output_type": "execute_result"
    }
   ],
   "source": [
    "meat_cost_per_day = df_largest_food_cost.filter(\n",
    "                    pl.col(\"Category\") == \"Meat\"\n",
    "    \n",
    ")[\"cost per day\"].item()\n",
    "\n",
    "grocery_meat_pct_change_cost = ((grocery_cost_per_day -  meat_cost_per_day) / meat_cost_per_day) * 100\n",
    "grocery_meat_pct_change_cost\n",
    "# I calculated the percentage change in cost between \"Grocery\" and \"Meat.\" \n",
    "# The formula used was Grocery Cost per Day − Meat Cost per Day × 100\n",
    "# shows cost of Grocery per day is 297% more expensive than Dairy\n",
    "\n"
   ]
  },
  {
   "cell_type": "code",
   "execution_count": null,
   "id": "e0f875ee-00e7-49f6-8c89-10e9f383140d",
   "metadata": {},
   "outputs": [],
   "source": []
  },
  {
   "cell_type": "code",
   "execution_count": 196,
   "id": "af8d767f-bf03-4063-9d3a-94ed3fcbd6c9",
   "metadata": {},
   "outputs": [
    {
     "data": {
      "text/html": [
       "<div><style>\n",
       ".dataframe > thead > tr,\n",
       ".dataframe > tbody > tr {\n",
       "  text-align: right;\n",
       "  white-space: pre-wrap;\n",
       "}\n",
       "</style>\n",
       "<small>shape: (4, 11)</small><table border=\"1\" class=\"dataframe\"><thead><tr><th>Category</th><th>Supplier</th><th>Sum of Jun-24</th><th>Total 6 months</th><th>AVG per month</th><th>Budgeted spend per day £</th><th>Actual spend</th><th>num of residents</th><th>cost per day</th><th>cost per resident per day</th><th>budget status</th></tr><tr><td>str</td><td>str</td><td>f64</td><td>f64</td><td>f64</td><td>f64</td><td>f64</td><td>f64</td><td>f64</td><td>f64</td><td>str</td></tr></thead><tbody><tr><td>null</td><td>null</td><td>4857.23</td><td>29575.63</td><td>4929.271667</td><td>3.85</td><td>null</td><td>39.0</td><td>161.91</td><td>4.15</td><td>&quot;over budget&quot;</td></tr><tr><td>&quot;Grocery&quot;</td><td>&quot;Bidfood&quot;</td><td>3212.38</td><td>20377.82</td><td>3396.303333</td><td>null</td><td>null</td><td>null</td><td>107.08</td><td>2.75</td><td>&quot;under budget&quot;</td></tr><tr><td>&quot;Dairy&quot;</td><td>&quot;Freshways&quot;</td><td>835.76</td><td>4405.69</td><td>734.281667</td><td>null</td><td>null</td><td>null</td><td>27.86</td><td>0.71</td><td>&quot;under budget&quot;</td></tr><tr><td>&quot;Meat&quot;</td><td>&quot;Campbells Brothers-New&quot;</td><td>809.09</td><td>4792.12</td><td>798.686667</td><td>null</td><td>null</td><td>null</td><td>26.97</td><td>0.69</td><td>&quot;under budget&quot;</td></tr></tbody></table></div>"
      ],
      "text/plain": [
       "shape: (4, 11)\n",
       "┌──────────┬─────────────────┬─────────┬──────────┬───┬───────────┬─────────────────┬─────────────────┬────────────────┐\n",
       "│ Category ┆ Supplier        ┆ Sum of  ┆ Total 6  ┆ … ┆ num of    ┆ cost per day    ┆ cost per        ┆ budget status  │\n",
       "│ ---      ┆ ---             ┆ Jun-24  ┆ months   ┆   ┆ residents ┆ ---             ┆ resident per    ┆ ---            │\n",
       "│ str      ┆ str             ┆ ---     ┆ ---      ┆   ┆ ---       ┆ f64             ┆ day             ┆ str            │\n",
       "│          ┆                 ┆ f64     ┆ f64      ┆   ┆ f64       ┆                 ┆ ---             ┆                │\n",
       "│          ┆                 ┆         ┆          ┆   ┆           ┆                 ┆ f64             ┆                │\n",
       "╞══════════╪═════════════════╪═════════╪══════════╪═══╪═══════════╪═════════════════╪═════════════════╪════════════════╡\n",
       "│ null     ┆ null            ┆ 4857.23 ┆ 29575.63 ┆ … ┆ 39.0      ┆ 161.91          ┆ 4.15            ┆ over budget    │\n",
       "│ Grocery  ┆ Bidfood         ┆ 3212.38 ┆ 20377.82 ┆ … ┆ null      ┆ 107.08          ┆ 2.75            ┆ under budget   │\n",
       "│ Dairy    ┆ Freshways       ┆ 835.76  ┆ 4405.69  ┆ … ┆ null      ┆ 27.86           ┆ 0.71            ┆ under budget   │\n",
       "│ Meat     ┆ Campbells       ┆ 809.09  ┆ 4792.12  ┆ … ┆ null      ┆ 26.97           ┆ 0.69            ┆ under budget   │\n",
       "│          ┆ Brothers-New    ┆         ┆          ┆   ┆           ┆                 ┆                 ┆                │\n",
       "└──────────┴─────────────────┴─────────┴──────────┴───┴───────────┴─────────────────┴─────────────────┴────────────────┘"
      ]
     },
     "execution_count": 196,
     "metadata": {},
     "output_type": "execute_result"
    }
   ],
   "source": [
    "df_cost_per_resident = df_cost_per_resident.with_columns(\n",
    "    pl.when(pl.col(\"cost per resident per day\") > 3.85)  # Check if this column exists\n",
    "      .then(pl.lit(\"over budget\"))\n",
    "      .otherwise(pl.lit(\"under budget\"))\n",
    "      .alias(\"budget status\")\n",
    ")\n",
    "\n",
    "df_cost_per_resident\n",
    "\n",
    "# from this we can see all costs per resident per day is all within budget as all figures are less than 3.85."
   ]
  },
  {
   "cell_type": "code",
   "execution_count": 198,
   "id": "ccac492a-bcee-4846-a608-e49da1cec799",
   "metadata": {},
   "outputs": [
    {
     "data": {
      "text/html": [
       "<div><style>\n",
       ".dataframe > thead > tr,\n",
       ".dataframe > tbody > tr {\n",
       "  text-align: right;\n",
       "  white-space: pre-wrap;\n",
       "}\n",
       "</style>\n",
       "<small>shape: (4, 11)</small><table border=\"1\" class=\"dataframe\"><thead><tr><th>Category</th><th>Supplier</th><th>Sum of Jun-24</th><th>Total 6 months</th><th>AVG per month</th><th>Budgeted spend per day £</th><th>Actual spend</th><th>num of residents</th><th>cost per day</th><th>cost per resident per day</th><th>budget status</th></tr><tr><td>str</td><td>str</td><td>f64</td><td>f64</td><td>f64</td><td>f64</td><td>f64</td><td>f64</td><td>f64</td><td>f64</td><td>str</td></tr></thead><tbody><tr><td>null</td><td>null</td><td>4857.23</td><td>29575.63</td><td>4929.271667</td><td>3.85</td><td>null</td><td>39.0</td><td>161.91</td><td>4.15</td><td>&quot;over budget&quot;</td></tr><tr><td>&quot;Grocery&quot;</td><td>&quot;Bidfood&quot;</td><td>3212.38</td><td>20377.82</td><td>3396.303333</td><td>null</td><td>null</td><td>null</td><td>107.08</td><td>2.75</td><td>&quot;under budget&quot;</td></tr><tr><td>&quot;Dairy&quot;</td><td>&quot;Freshways&quot;</td><td>835.76</td><td>4405.69</td><td>734.281667</td><td>null</td><td>null</td><td>null</td><td>27.86</td><td>0.71</td><td>&quot;under budget&quot;</td></tr><tr><td>&quot;Meat&quot;</td><td>&quot;Campbells Brothers-New&quot;</td><td>809.09</td><td>4792.12</td><td>798.686667</td><td>null</td><td>null</td><td>null</td><td>26.97</td><td>0.69</td><td>&quot;under budget&quot;</td></tr></tbody></table></div>"
      ],
      "text/plain": [
       "shape: (4, 11)\n",
       "┌──────────┬─────────────────┬─────────┬──────────┬───┬───────────┬─────────────────┬─────────────────┬────────────────┐\n",
       "│ Category ┆ Supplier        ┆ Sum of  ┆ Total 6  ┆ … ┆ num of    ┆ cost per day    ┆ cost per        ┆ budget status  │\n",
       "│ ---      ┆ ---             ┆ Jun-24  ┆ months   ┆   ┆ residents ┆ ---             ┆ resident per    ┆ ---            │\n",
       "│ str      ┆ str             ┆ ---     ┆ ---      ┆   ┆ ---       ┆ f64             ┆ day             ┆ str            │\n",
       "│          ┆                 ┆ f64     ┆ f64      ┆   ┆ f64       ┆                 ┆ ---             ┆                │\n",
       "│          ┆                 ┆         ┆          ┆   ┆           ┆                 ┆ f64             ┆                │\n",
       "╞══════════╪═════════════════╪═════════╪══════════╪═══╪═══════════╪═════════════════╪═════════════════╪════════════════╡\n",
       "│ null     ┆ null            ┆ 4857.23 ┆ 29575.63 ┆ … ┆ 39.0      ┆ 161.91          ┆ 4.15            ┆ over budget    │\n",
       "│ Grocery  ┆ Bidfood         ┆ 3212.38 ┆ 20377.82 ┆ … ┆ null      ┆ 107.08          ┆ 2.75            ┆ under budget   │\n",
       "│ Dairy    ┆ Freshways       ┆ 835.76  ┆ 4405.69  ┆ … ┆ null      ┆ 27.86           ┆ 0.71            ┆ under budget   │\n",
       "│ Meat     ┆ Campbells       ┆ 809.09  ┆ 4792.12  ┆ … ┆ null      ┆ 26.97           ┆ 0.69            ┆ under budget   │\n",
       "│          ┆ Brothers-New    ┆         ┆          ┆   ┆           ┆                 ┆                 ┆                │\n",
       "└──────────┴─────────────────┴─────────┴──────────┴───┴───────────┴─────────────────┴─────────────────┴────────────────┘"
      ]
     },
     "execution_count": 198,
     "metadata": {},
     "output_type": "execute_result"
    }
   ],
   "source": [
    "df_cost_per_resident"
   ]
  },
  {
   "cell_type": "code",
   "execution_count": 234,
   "id": "958f7d60-762b-4682-8eb2-6821d7f743c8",
   "metadata": {},
   "outputs": [
    {
     "data": {
      "text/html": [
       "<div><style>\n",
       ".dataframe > thead > tr,\n",
       ".dataframe > tbody > tr {\n",
       "  text-align: right;\n",
       "  white-space: pre-wrap;\n",
       "}\n",
       "</style>\n",
       "<small>shape: (3, 2)</small><table border=\"1\" class=\"dataframe\"><thead><tr><th>Category</th><th>annual expenditure</th></tr><tr><td>str</td><td>f64</td></tr></thead><tbody><tr><td>&quot;Dairy&quot;</td><td>8811.38</td></tr><tr><td>&quot;Meat&quot;</td><td>9584.24</td></tr><tr><td>&quot;Grocery&quot;</td><td>40755.64</td></tr></tbody></table></div>"
      ],
      "text/plain": [
       "shape: (3, 2)\n",
       "┌──────────┬────────────────────┐\n",
       "│ Category ┆ annual expenditure │\n",
       "│ ---      ┆ ---                │\n",
       "│ str      ┆ f64                │\n",
       "╞══════════╪════════════════════╡\n",
       "│ Dairy    ┆ 8811.38            │\n",
       "│ Meat     ┆ 9584.24            │\n",
       "│ Grocery  ┆ 40755.64           │\n",
       "└──────────┴────────────────────┘"
      ]
     },
     "execution_count": 234,
     "metadata": {},
     "output_type": "execute_result"
    }
   ],
   "source": [
    "# chart illustrating the average/ forecasted annual expenditures for this group categorized by total spend.\n",
    "annual_expenditure = df_cost_per_resident.group_by(\"Category\").agg(pl.col(\"AVG per month\") * 12)\n",
    "annual_expenditure = annual_expenditure.rename({\"AVG per month\": \"annual expenditure\"})\n",
    "annual_expenditure = annual_expenditure.explode(\"annual expenditure\")\n",
    "annual_expenditure\n",
    "\n",
    "annual_expenditure = annual_expenditure.filter(pl.col(\"Category\").is_not_null())\n",
    "annual_expenditure\n",
    "\n",
    "# I grouped the df_cost_per_resident DataFrame by \"Category\" and calculated the annual expenditure by multiplying the average monthly cost (AVG per month) by 12. \n",
    "# This operation gives the total expected expenditure for each category over a year.\n",
    "# The resulting column, which initially held the average monthly expenditure, is renamed to \"annual expenditure\" for clarity. This helps in understanding that the values represent yearly totals rather than monthly averages.\n"
   ]
  },
  {
   "cell_type": "code",
   "execution_count": 252,
   "id": "b6425100-83a0-4d84-afe3-06bd8cd2b2ac",
   "metadata": {},
   "outputs": [
    {
     "data": {
      "image/png": "[encoded data removed]",
      "text/plain": [
       "<Figure size 640x480 with 1 Axes>"
      ]
     },
     "metadata": {},
     "output_type": "display_data"
    }
   ],
   "source": [
    "annual_expenditure_pd = annual_expenditure.to_pandas()\n",
    "plt.bar(annual_expenditure_pd[\"Category\"], annual_expenditure_pd[\"annual expenditure\"], color = \"skyblue\")\n",
    "plt.title(\"Annual expenditure by Category\")\n",
    "plt.show()\n",
    "\n",
    "# chart showing annual expenditure based on category"
   ]
  },
  {
   "cell_type": "code",
   "execution_count": null,
   "id": "5cee38f8-35d4-4090-ba81-cefc4a13c133",
   "metadata": {},
   "outputs": [],
   "source": []
  }
 ],
 "metadata": {
  "kernelspec": {
   "display_name": "Python 3 (ipykernel)",
   "language": "python",
   "name": "python3"
  },
  "language_info": {
   "codemirror_mode": {
    "name": "ipython",
    "version": 3
   },
   "file_extension": ".py",
   "mimetype": "text/x-python",
   "name": "python",
   "nbconvert_exporter": "python",
   "pygments_lexer": "ipython3",
   "version": "3.12.4"
  }
 },
 "nbformat": 4,
 "nbformat_minor": 5
}
